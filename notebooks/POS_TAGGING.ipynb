{
 "cells": [
  {
   "cell_type": "markdown",
   "metadata": {},
   "source": [
    "# Automatic tag a question using stackoverflow data"
   ]
  },
  {
   "cell_type": "code",
   "execution_count": 1,
   "metadata": {},
   "outputs": [],
   "source": [
    "%load_ext autoreload\n",
    "%autoreload 2"
   ]
  },
  {
   "cell_type": "code",
   "execution_count": 2,
   "metadata": {},
   "outputs": [],
   "source": [
    "import pandas as pd\n",
    "import pickle\n",
    "from utils import *"
   ]
  },
  {
   "cell_type": "code",
   "execution_count": 3,
   "metadata": {},
   "outputs": [],
   "source": [
    "from bs4 import BeautifulSoup\n",
    "from tqdm.notebook import tqdm\n",
    "import warnings\n",
    "warnings.filterwarnings(\"ignore\")\n",
    "tqdm.pandas(desc=\"Preprocess Data\")"
   ]
  },
  {
   "cell_type": "code",
   "execution_count": 4,
   "metadata": {},
   "outputs": [],
   "source": [
    "# import json\n",
    "# from raw_data import TokensRetriever, JsonConverter\n",
    "\n",
    "# file_train_raw= \"data/pyast/python100k_train.json\" \n",
    "# file_eval_raw= \"data/pyast/python50k_eval.json\" \n",
    "# file_non_terminals= \"data/pyast/non_terminals.json\" \n",
    "# file_terminals= \"data/pyast/terminals.json\" \n",
    "# file_train_converted= \"data/pyast/programs_training_seq.json\" \n",
    "# file_eval_converted= \"data/pyast/programs_eval_seq.json\" \n",
    "# file_train= \"data/pyast/file_train.json\" \n",
    "# file_eval= \"data/pyast/file_eval.json\"\n",
    "# ENCODING = 'ISO-8859-1'\n",
    "# LIM = 100000"
   ]
  },
  {
   "cell_type": "markdown",
   "metadata": {},
   "source": [
    "## Data"
   ]
  },
  {
   "cell_type": "code",
   "execution_count": 2,
   "metadata": {},
   "outputs": [],
   "source": [
    "questions = pd.read_csv(\"data/Questions.csv\", encoding='iso-8859-1')\n",
    "answers = pd.read_csv(\"data/Answers.csv\", encoding='iso-8859-1')\n",
    "tags = pd.read_csv(\"data/Tags.csv\", encoding='iso-8859-1')"
   ]
  },
  {
   "cell_type": "code",
   "execution_count": 9,
   "metadata": {},
   "outputs": [
    {
     "data": {
      "text/html": [
       "<div>\n",
       "<style scoped>\n",
       "    .dataframe tbody tr th:only-of-type {\n",
       "        vertical-align: middle;\n",
       "    }\n",
       "\n",
       "    .dataframe tbody tr th {\n",
       "        vertical-align: top;\n",
       "    }\n",
       "\n",
       "    .dataframe thead th {\n",
       "        text-align: right;\n",
       "    }\n",
       "</style>\n",
       "<table border=\"1\" class=\"dataframe\">\n",
       "  <thead>\n",
       "    <tr style=\"text-align: right;\">\n",
       "      <th></th>\n",
       "      <th>Id</th>\n",
       "      <th>Tag</th>\n",
       "    </tr>\n",
       "  </thead>\n",
       "  <tbody>\n",
       "    <tr>\n",
       "      <th>0</th>\n",
       "      <td>469</td>\n",
       "      <td>python</td>\n",
       "    </tr>\n",
       "    <tr>\n",
       "      <th>1</th>\n",
       "      <td>469</td>\n",
       "      <td>osx</td>\n",
       "    </tr>\n",
       "    <tr>\n",
       "      <th>2</th>\n",
       "      <td>469</td>\n",
       "      <td>fonts</td>\n",
       "    </tr>\n",
       "    <tr>\n",
       "      <th>3</th>\n",
       "      <td>469</td>\n",
       "      <td>photoshop</td>\n",
       "    </tr>\n",
       "    <tr>\n",
       "      <th>4</th>\n",
       "      <td>502</td>\n",
       "      <td>python</td>\n",
       "    </tr>\n",
       "  </tbody>\n",
       "</table>\n",
       "</div>"
      ],
      "text/plain": [
       "    Id        Tag\n",
       "0  469     python\n",
       "1  469        osx\n",
       "2  469      fonts\n",
       "3  469  photoshop\n",
       "4  502     python"
      ]
     },
     "execution_count": 9,
     "metadata": {},
     "output_type": "execute_result"
    }
   ],
   "source": [
    "tags.head()"
   ]
  },
  {
   "cell_type": "code",
   "execution_count": 3,
   "metadata": {},
   "outputs": [
    {
     "data": {
      "text/html": [
       "<div>\n",
       "<style scoped>\n",
       "    .dataframe tbody tr th:only-of-type {\n",
       "        vertical-align: middle;\n",
       "    }\n",
       "\n",
       "    .dataframe tbody tr th {\n",
       "        vertical-align: top;\n",
       "    }\n",
       "\n",
       "    .dataframe thead th {\n",
       "        text-align: right;\n",
       "    }\n",
       "</style>\n",
       "<table border=\"1\" class=\"dataframe\">\n",
       "  <thead>\n",
       "    <tr style=\"text-align: right;\">\n",
       "      <th></th>\n",
       "      <th>Id</th>\n",
       "      <th>OwnerUserId</th>\n",
       "      <th>CreationDate</th>\n",
       "      <th>ParentId</th>\n",
       "      <th>Score</th>\n",
       "      <th>Body</th>\n",
       "    </tr>\n",
       "  </thead>\n",
       "  <tbody>\n",
       "    <tr>\n",
       "      <th>0</th>\n",
       "      <td>497</td>\n",
       "      <td>50.0</td>\n",
       "      <td>2008-08-02T16:56:53Z</td>\n",
       "      <td>469</td>\n",
       "      <td>4</td>\n",
       "      <td>&lt;p&gt;open up a terminal (Applications-&amp;gt;Utilit...</td>\n",
       "    </tr>\n",
       "    <tr>\n",
       "      <th>1</th>\n",
       "      <td>518</td>\n",
       "      <td>153.0</td>\n",
       "      <td>2008-08-02T17:42:28Z</td>\n",
       "      <td>469</td>\n",
       "      <td>2</td>\n",
       "      <td>&lt;p&gt;I haven't been able to find anything that d...</td>\n",
       "    </tr>\n",
       "    <tr>\n",
       "      <th>2</th>\n",
       "      <td>536</td>\n",
       "      <td>161.0</td>\n",
       "      <td>2008-08-02T18:49:07Z</td>\n",
       "      <td>502</td>\n",
       "      <td>9</td>\n",
       "      <td>&lt;p&gt;You can use ImageMagick's convert utility f...</td>\n",
       "    </tr>\n",
       "    <tr>\n",
       "      <th>3</th>\n",
       "      <td>538</td>\n",
       "      <td>156.0</td>\n",
       "      <td>2008-08-02T18:56:56Z</td>\n",
       "      <td>535</td>\n",
       "      <td>23</td>\n",
       "      <td>&lt;p&gt;One possibility is Hudson.  It's written in...</td>\n",
       "    </tr>\n",
       "    <tr>\n",
       "      <th>4</th>\n",
       "      <td>541</td>\n",
       "      <td>157.0</td>\n",
       "      <td>2008-08-02T19:06:40Z</td>\n",
       "      <td>535</td>\n",
       "      <td>20</td>\n",
       "      <td>&lt;p&gt;We run &lt;a href=\"http://buildbot.net/trac\"&gt;B...</td>\n",
       "    </tr>\n",
       "  </tbody>\n",
       "</table>\n",
       "</div>"
      ],
      "text/plain": [
       "    Id  OwnerUserId          CreationDate  ParentId  Score  \\\n",
       "0  497         50.0  2008-08-02T16:56:53Z       469      4   \n",
       "1  518        153.0  2008-08-02T17:42:28Z       469      2   \n",
       "2  536        161.0  2008-08-02T18:49:07Z       502      9   \n",
       "3  538        156.0  2008-08-02T18:56:56Z       535     23   \n",
       "4  541        157.0  2008-08-02T19:06:40Z       535     20   \n",
       "\n",
       "                                                Body  \n",
       "0  <p>open up a terminal (Applications-&gt;Utilit...  \n",
       "1  <p>I haven't been able to find anything that d...  \n",
       "2  <p>You can use ImageMagick's convert utility f...  \n",
       "3  <p>One possibility is Hudson.  It's written in...  \n",
       "4  <p>We run <a href=\"http://buildbot.net/trac\">B...  "
      ]
     },
     "execution_count": 3,
     "metadata": {},
     "output_type": "execute_result"
    }
   ],
   "source": [
    "answers.head()"
   ]
  },
  {
   "cell_type": "code",
   "execution_count": 4,
   "metadata": {},
   "outputs": [
    {
     "data": {
      "text/html": [
       "<div>\n",
       "<style scoped>\n",
       "    .dataframe tbody tr th:only-of-type {\n",
       "        vertical-align: middle;\n",
       "    }\n",
       "\n",
       "    .dataframe tbody tr th {\n",
       "        vertical-align: top;\n",
       "    }\n",
       "\n",
       "    .dataframe thead th {\n",
       "        text-align: right;\n",
       "    }\n",
       "</style>\n",
       "<table border=\"1\" class=\"dataframe\">\n",
       "  <thead>\n",
       "    <tr style=\"text-align: right;\">\n",
       "      <th></th>\n",
       "      <th>Id</th>\n",
       "      <th>OwnerUserId</th>\n",
       "      <th>CreationDate</th>\n",
       "      <th>Score</th>\n",
       "      <th>Title</th>\n",
       "      <th>Body</th>\n",
       "    </tr>\n",
       "  </thead>\n",
       "  <tbody>\n",
       "    <tr>\n",
       "      <th>0</th>\n",
       "      <td>469</td>\n",
       "      <td>147.0</td>\n",
       "      <td>2008-08-02T15:11:16Z</td>\n",
       "      <td>21</td>\n",
       "      <td>How can I find the full path to a font from it...</td>\n",
       "      <td>&lt;p&gt;I am using the Photoshop's javascript API t...</td>\n",
       "    </tr>\n",
       "    <tr>\n",
       "      <th>1</th>\n",
       "      <td>502</td>\n",
       "      <td>147.0</td>\n",
       "      <td>2008-08-02T17:01:58Z</td>\n",
       "      <td>27</td>\n",
       "      <td>Get a preview JPEG of a PDF on Windows?</td>\n",
       "      <td>&lt;p&gt;I have a cross-platform (Python) applicatio...</td>\n",
       "    </tr>\n",
       "    <tr>\n",
       "      <th>2</th>\n",
       "      <td>535</td>\n",
       "      <td>154.0</td>\n",
       "      <td>2008-08-02T18:43:54Z</td>\n",
       "      <td>40</td>\n",
       "      <td>Continuous Integration System for a Python Cod...</td>\n",
       "      <td>&lt;p&gt;I'm starting work on a hobby project with a...</td>\n",
       "    </tr>\n",
       "    <tr>\n",
       "      <th>3</th>\n",
       "      <td>594</td>\n",
       "      <td>116.0</td>\n",
       "      <td>2008-08-03T01:15:08Z</td>\n",
       "      <td>25</td>\n",
       "      <td>cx_Oracle: How do I iterate over a result set?</td>\n",
       "      <td>&lt;p&gt;There are several ways to iterate over a re...</td>\n",
       "    </tr>\n",
       "    <tr>\n",
       "      <th>4</th>\n",
       "      <td>683</td>\n",
       "      <td>199.0</td>\n",
       "      <td>2008-08-03T13:19:16Z</td>\n",
       "      <td>28</td>\n",
       "      <td>Using 'in' to match an attribute of Python obj...</td>\n",
       "      <td>&lt;p&gt;I don't remember whether I was dreaming or ...</td>\n",
       "    </tr>\n",
       "  </tbody>\n",
       "</table>\n",
       "</div>"
      ],
      "text/plain": [
       "    Id  OwnerUserId          CreationDate  Score  \\\n",
       "0  469        147.0  2008-08-02T15:11:16Z     21   \n",
       "1  502        147.0  2008-08-02T17:01:58Z     27   \n",
       "2  535        154.0  2008-08-02T18:43:54Z     40   \n",
       "3  594        116.0  2008-08-03T01:15:08Z     25   \n",
       "4  683        199.0  2008-08-03T13:19:16Z     28   \n",
       "\n",
       "                                               Title  \\\n",
       "0  How can I find the full path to a font from it...   \n",
       "1            Get a preview JPEG of a PDF on Windows?   \n",
       "2  Continuous Integration System for a Python Cod...   \n",
       "3     cx_Oracle: How do I iterate over a result set?   \n",
       "4  Using 'in' to match an attribute of Python obj...   \n",
       "\n",
       "                                                Body  \n",
       "0  <p>I am using the Photoshop's javascript API t...  \n",
       "1  <p>I have a cross-platform (Python) applicatio...  \n",
       "2  <p>I'm starting work on a hobby project with a...  \n",
       "3  <p>There are several ways to iterate over a re...  \n",
       "4  <p>I don't remember whether I was dreaming or ...  "
      ]
     },
     "execution_count": 4,
     "metadata": {},
     "output_type": "execute_result"
    }
   ],
   "source": [
    "questions.head()"
   ]
  },
  {
   "cell_type": "markdown",
   "metadata": {},
   "source": [
    "## Preprocessing clean html"
   ]
  },
  {
   "cell_type": "code",
   "execution_count": 6,
   "metadata": {},
   "outputs": [],
   "source": [
    "def clean_html(html_content):\n",
    "    \"\"\"\n",
    "    Clean html form of the data\n",
    "    Argument:\n",
    "        html_content -- Blog's content in html form\n",
    "    \n",
    "    Returns:\n",
    "        clean_text -- python string containing the blog's\n",
    "        content cleaned and parsed with the beatifulsoup html.parser method\n",
    "    \"\"\"\n",
    "    \n",
    "    clean_text = None\n",
    "    soup = BeautifulSoup(html_content, \"html.parser\")\n",
    "    clean_text = soup.get_text()\n",
    "    return clean_text"
   ]
  },
  {
   "cell_type": "code",
   "execution_count": 7,
   "metadata": {},
   "outputs": [
    {
     "data": {
      "application/vnd.jupyter.widget-view+json": {
       "model_id": "1ad71cbdfa0a4d998ad26fc48e91b112",
       "version_major": 2,
       "version_minor": 0
      },
      "text/plain": [
       "HBox(children=(FloatProgress(value=0.0, description='Preprocess Data', max=607282.0, style=ProgressStyle(descr…"
      ]
     },
     "metadata": {},
     "output_type": "display_data"
    },
    {
     "name": "stdout",
     "output_type": "stream",
     "text": [
      "\n"
     ]
    },
    {
     "data": {
      "application/vnd.jupyter.widget-view+json": {
       "model_id": "f5a6be9f6ab64fa4b08b3083ec5b98a1",
       "version_major": 2,
       "version_minor": 0
      },
      "text/plain": [
       "HBox(children=(FloatProgress(value=0.0, description='Preprocess Data', max=607282.0, style=ProgressStyle(descr…"
      ]
     },
     "metadata": {},
     "output_type": "display_data"
    },
    {
     "name": "stdout",
     "output_type": "stream",
     "text": [
      "\n"
     ]
    }
   ],
   "source": [
    "questions.Title = questions[\"Title\"].progress_apply(clean_html)\n",
    "questions.Body = questions[\"Body\"].progress_apply(clean_html)"
   ]
  },
  {
   "cell_type": "code",
   "execution_count": 8,
   "metadata": {},
   "outputs": [
    {
     "data": {
      "application/vnd.jupyter.widget-view+json": {
       "model_id": "a339c81a31cc4cdd86e03f342072eb73",
       "version_major": 2,
       "version_minor": 0
      },
      "text/plain": [
       "HBox(children=(FloatProgress(value=0.0, description='Preprocess Data', max=987122.0, style=ProgressStyle(descr…"
      ]
     },
     "metadata": {},
     "output_type": "display_data"
    },
    {
     "name": "stdout",
     "output_type": "stream",
     "text": [
      "\n"
     ]
    }
   ],
   "source": [
    "answers.Body = answers[\"Body\"].progress_apply(clean_html)"
   ]
  },
  {
   "cell_type": "code",
   "execution_count": 9,
   "metadata": {},
   "outputs": [
    {
     "data": {
      "text/html": [
       "<div>\n",
       "<style scoped>\n",
       "    .dataframe tbody tr th:only-of-type {\n",
       "        vertical-align: middle;\n",
       "    }\n",
       "\n",
       "    .dataframe tbody tr th {\n",
       "        vertical-align: top;\n",
       "    }\n",
       "\n",
       "    .dataframe thead th {\n",
       "        text-align: right;\n",
       "    }\n",
       "</style>\n",
       "<table border=\"1\" class=\"dataframe\">\n",
       "  <thead>\n",
       "    <tr style=\"text-align: right;\">\n",
       "      <th></th>\n",
       "      <th>Id</th>\n",
       "      <th>OwnerUserId</th>\n",
       "      <th>CreationDate</th>\n",
       "      <th>Score</th>\n",
       "      <th>Title</th>\n",
       "      <th>Body</th>\n",
       "    </tr>\n",
       "  </thead>\n",
       "  <tbody>\n",
       "    <tr>\n",
       "      <th>0</th>\n",
       "      <td>469</td>\n",
       "      <td>147.0</td>\n",
       "      <td>2008-08-02T15:11:16Z</td>\n",
       "      <td>21</td>\n",
       "      <td>How can I find the full path to a font from it...</td>\n",
       "      <td>I am using the Photoshop's javascript API to f...</td>\n",
       "    </tr>\n",
       "    <tr>\n",
       "      <th>1</th>\n",
       "      <td>502</td>\n",
       "      <td>147.0</td>\n",
       "      <td>2008-08-02T17:01:58Z</td>\n",
       "      <td>27</td>\n",
       "      <td>Get a preview JPEG of a PDF on Windows?</td>\n",
       "      <td>I have a cross-platform (Python) application w...</td>\n",
       "    </tr>\n",
       "    <tr>\n",
       "      <th>2</th>\n",
       "      <td>535</td>\n",
       "      <td>154.0</td>\n",
       "      <td>2008-08-02T18:43:54Z</td>\n",
       "      <td>40</td>\n",
       "      <td>Continuous Integration System for a Python Cod...</td>\n",
       "      <td>I'm starting work on a hobby project with a py...</td>\n",
       "    </tr>\n",
       "    <tr>\n",
       "      <th>3</th>\n",
       "      <td>594</td>\n",
       "      <td>116.0</td>\n",
       "      <td>2008-08-03T01:15:08Z</td>\n",
       "      <td>25</td>\n",
       "      <td>cx_Oracle: How do I iterate over a result set?</td>\n",
       "      <td>There are several ways to iterate over a resul...</td>\n",
       "    </tr>\n",
       "    <tr>\n",
       "      <th>4</th>\n",
       "      <td>683</td>\n",
       "      <td>199.0</td>\n",
       "      <td>2008-08-03T13:19:16Z</td>\n",
       "      <td>28</td>\n",
       "      <td>Using 'in' to match an attribute of Python obj...</td>\n",
       "      <td>I don't remember whether I was dreaming or not...</td>\n",
       "    </tr>\n",
       "  </tbody>\n",
       "</table>\n",
       "</div>"
      ],
      "text/plain": [
       "    Id  OwnerUserId          CreationDate  Score  \\\n",
       "0  469        147.0  2008-08-02T15:11:16Z     21   \n",
       "1  502        147.0  2008-08-02T17:01:58Z     27   \n",
       "2  535        154.0  2008-08-02T18:43:54Z     40   \n",
       "3  594        116.0  2008-08-03T01:15:08Z     25   \n",
       "4  683        199.0  2008-08-03T13:19:16Z     28   \n",
       "\n",
       "                                               Title  \\\n",
       "0  How can I find the full path to a font from it...   \n",
       "1            Get a preview JPEG of a PDF on Windows?   \n",
       "2  Continuous Integration System for a Python Cod...   \n",
       "3     cx_Oracle: How do I iterate over a result set?   \n",
       "4  Using 'in' to match an attribute of Python obj...   \n",
       "\n",
       "                                                Body  \n",
       "0  I am using the Photoshop's javascript API to f...  \n",
       "1  I have a cross-platform (Python) application w...  \n",
       "2  I'm starting work on a hobby project with a py...  \n",
       "3  There are several ways to iterate over a resul...  \n",
       "4  I don't remember whether I was dreaming or not...  "
      ]
     },
     "execution_count": 9,
     "metadata": {},
     "output_type": "execute_result"
    }
   ],
   "source": [
    "questions.head()"
   ]
  },
  {
   "cell_type": "code",
   "execution_count": 10,
   "metadata": {},
   "outputs": [
    {
     "data": {
      "text/html": [
       "<div>\n",
       "<style scoped>\n",
       "    .dataframe tbody tr th:only-of-type {\n",
       "        vertical-align: middle;\n",
       "    }\n",
       "\n",
       "    .dataframe tbody tr th {\n",
       "        vertical-align: top;\n",
       "    }\n",
       "\n",
       "    .dataframe thead th {\n",
       "        text-align: right;\n",
       "    }\n",
       "</style>\n",
       "<table border=\"1\" class=\"dataframe\">\n",
       "  <thead>\n",
       "    <tr style=\"text-align: right;\">\n",
       "      <th></th>\n",
       "      <th>Id</th>\n",
       "      <th>OwnerUserId</th>\n",
       "      <th>CreationDate</th>\n",
       "      <th>ParentId</th>\n",
       "      <th>Score</th>\n",
       "      <th>Body</th>\n",
       "    </tr>\n",
       "  </thead>\n",
       "  <tbody>\n",
       "    <tr>\n",
       "      <th>0</th>\n",
       "      <td>497</td>\n",
       "      <td>50.0</td>\n",
       "      <td>2008-08-02T16:56:53Z</td>\n",
       "      <td>469</td>\n",
       "      <td>4</td>\n",
       "      <td>open up a terminal (Applications-&gt;Utilities-&gt;T...</td>\n",
       "    </tr>\n",
       "    <tr>\n",
       "      <th>1</th>\n",
       "      <td>518</td>\n",
       "      <td>153.0</td>\n",
       "      <td>2008-08-02T17:42:28Z</td>\n",
       "      <td>469</td>\n",
       "      <td>2</td>\n",
       "      <td>I haven't been able to find anything that does...</td>\n",
       "    </tr>\n",
       "    <tr>\n",
       "      <th>2</th>\n",
       "      <td>536</td>\n",
       "      <td>161.0</td>\n",
       "      <td>2008-08-02T18:49:07Z</td>\n",
       "      <td>502</td>\n",
       "      <td>9</td>\n",
       "      <td>You can use ImageMagick's convert utility for ...</td>\n",
       "    </tr>\n",
       "    <tr>\n",
       "      <th>3</th>\n",
       "      <td>538</td>\n",
       "      <td>156.0</td>\n",
       "      <td>2008-08-02T18:56:56Z</td>\n",
       "      <td>535</td>\n",
       "      <td>23</td>\n",
       "      <td>One possibility is Hudson.  It's written in Ja...</td>\n",
       "    </tr>\n",
       "    <tr>\n",
       "      <th>4</th>\n",
       "      <td>541</td>\n",
       "      <td>157.0</td>\n",
       "      <td>2008-08-02T19:06:40Z</td>\n",
       "      <td>535</td>\n",
       "      <td>20</td>\n",
       "      <td>We run Buildbot - Trac at work, I haven't used...</td>\n",
       "    </tr>\n",
       "  </tbody>\n",
       "</table>\n",
       "</div>"
      ],
      "text/plain": [
       "    Id  OwnerUserId          CreationDate  ParentId  Score  \\\n",
       "0  497         50.0  2008-08-02T16:56:53Z       469      4   \n",
       "1  518        153.0  2008-08-02T17:42:28Z       469      2   \n",
       "2  536        161.0  2008-08-02T18:49:07Z       502      9   \n",
       "3  538        156.0  2008-08-02T18:56:56Z       535     23   \n",
       "4  541        157.0  2008-08-02T19:06:40Z       535     20   \n",
       "\n",
       "                                                Body  \n",
       "0  open up a terminal (Applications->Utilities->T...  \n",
       "1  I haven't been able to find anything that does...  \n",
       "2  You can use ImageMagick's convert utility for ...  \n",
       "3  One possibility is Hudson.  It's written in Ja...  \n",
       "4  We run Buildbot - Trac at work, I haven't used...  "
      ]
     },
     "execution_count": 10,
     "metadata": {},
     "output_type": "execute_result"
    }
   ],
   "source": [
    "answers.head()"
   ]
  },
  {
   "cell_type": "markdown",
   "metadata": {},
   "source": [
    "## Save the data"
   ]
  },
  {
   "cell_type": "code",
   "execution_count": 15,
   "metadata": {},
   "outputs": [],
   "source": [
    "pickle.dump(questions, open(\"data/questions_preprocess.pickle\", \"wb\"))\n",
    "pickle.dump(answers, open(\"data/answers_preprocess.pickle\", \"wb\"))\n",
    "pickle.dump(tags, open(\"data/tags.pickle\", \"wb\"))"
   ]
  },
  {
   "cell_type": "markdown",
   "metadata": {},
   "source": [
    "## Load Data"
   ]
  },
  {
   "cell_type": "code",
   "execution_count": 5,
   "metadata": {},
   "outputs": [],
   "source": [
    "questions = pickle.load(open(\"data/questions_preprocess.pickle\", \"rb\"))\n",
    "answers = pickle.load(open(\"data/answers_preprocess.pickle\", \"rb\"))\n",
    "tags = pickle.load( open(\"data/tags.pickle\", \"rb\"))"
   ]
  },
  {
   "cell_type": "code",
   "execution_count": 6,
   "metadata": {},
   "outputs": [
    {
     "data": {
      "text/html": [
       "<div>\n",
       "<style scoped>\n",
       "    .dataframe tbody tr th:only-of-type {\n",
       "        vertical-align: middle;\n",
       "    }\n",
       "\n",
       "    .dataframe tbody tr th {\n",
       "        vertical-align: top;\n",
       "    }\n",
       "\n",
       "    .dataframe thead th {\n",
       "        text-align: right;\n",
       "    }\n",
       "</style>\n",
       "<table border=\"1\" class=\"dataframe\">\n",
       "  <thead>\n",
       "    <tr style=\"text-align: right;\">\n",
       "      <th></th>\n",
       "      <th>Id</th>\n",
       "      <th>OwnerUserId</th>\n",
       "      <th>CreationDate</th>\n",
       "      <th>Score</th>\n",
       "      <th>Title</th>\n",
       "      <th>Body</th>\n",
       "    </tr>\n",
       "  </thead>\n",
       "  <tbody>\n",
       "    <tr>\n",
       "      <th>0</th>\n",
       "      <td>469</td>\n",
       "      <td>147.0</td>\n",
       "      <td>2008-08-02T15:11:16Z</td>\n",
       "      <td>21</td>\n",
       "      <td>How can I find the full path to a font from it...</td>\n",
       "      <td>I am using the Photoshop's javascript API to f...</td>\n",
       "    </tr>\n",
       "    <tr>\n",
       "      <th>1</th>\n",
       "      <td>502</td>\n",
       "      <td>147.0</td>\n",
       "      <td>2008-08-02T17:01:58Z</td>\n",
       "      <td>27</td>\n",
       "      <td>Get a preview JPEG of a PDF on Windows?</td>\n",
       "      <td>I have a cross-platform (Python) application w...</td>\n",
       "    </tr>\n",
       "    <tr>\n",
       "      <th>2</th>\n",
       "      <td>535</td>\n",
       "      <td>154.0</td>\n",
       "      <td>2008-08-02T18:43:54Z</td>\n",
       "      <td>40</td>\n",
       "      <td>Continuous Integration System for a Python Cod...</td>\n",
       "      <td>I'm starting work on a hobby project with a py...</td>\n",
       "    </tr>\n",
       "    <tr>\n",
       "      <th>3</th>\n",
       "      <td>594</td>\n",
       "      <td>116.0</td>\n",
       "      <td>2008-08-03T01:15:08Z</td>\n",
       "      <td>25</td>\n",
       "      <td>cx_Oracle: How do I iterate over a result set?</td>\n",
       "      <td>There are several ways to iterate over a resul...</td>\n",
       "    </tr>\n",
       "    <tr>\n",
       "      <th>4</th>\n",
       "      <td>683</td>\n",
       "      <td>199.0</td>\n",
       "      <td>2008-08-03T13:19:16Z</td>\n",
       "      <td>28</td>\n",
       "      <td>Using 'in' to match an attribute of Python obj...</td>\n",
       "      <td>I don't remember whether I was dreaming or not...</td>\n",
       "    </tr>\n",
       "  </tbody>\n",
       "</table>\n",
       "</div>"
      ],
      "text/plain": [
       "    Id  OwnerUserId          CreationDate  Score  \\\n",
       "0  469        147.0  2008-08-02T15:11:16Z     21   \n",
       "1  502        147.0  2008-08-02T17:01:58Z     27   \n",
       "2  535        154.0  2008-08-02T18:43:54Z     40   \n",
       "3  594        116.0  2008-08-03T01:15:08Z     25   \n",
       "4  683        199.0  2008-08-03T13:19:16Z     28   \n",
       "\n",
       "                                               Title  \\\n",
       "0  How can I find the full path to a font from it...   \n",
       "1            Get a preview JPEG of a PDF on Windows?   \n",
       "2  Continuous Integration System for a Python Cod...   \n",
       "3     cx_Oracle: How do I iterate over a result set?   \n",
       "4  Using 'in' to match an attribute of Python obj...   \n",
       "\n",
       "                                                Body  \n",
       "0  I am using the Photoshop's javascript API to f...  \n",
       "1  I have a cross-platform (Python) application w...  \n",
       "2  I'm starting work on a hobby project with a py...  \n",
       "3  There are several ways to iterate over a resul...  \n",
       "4  I don't remember whether I was dreaming or not...  "
      ]
     },
     "execution_count": 6,
     "metadata": {},
     "output_type": "execute_result"
    }
   ],
   "source": [
    "questions.head()"
   ]
  },
  {
   "cell_type": "code",
   "execution_count": 7,
   "metadata": {},
   "outputs": [
    {
     "data": {
      "text/html": [
       "<div>\n",
       "<style scoped>\n",
       "    .dataframe tbody tr th:only-of-type {\n",
       "        vertical-align: middle;\n",
       "    }\n",
       "\n",
       "    .dataframe tbody tr th {\n",
       "        vertical-align: top;\n",
       "    }\n",
       "\n",
       "    .dataframe thead th {\n",
       "        text-align: right;\n",
       "    }\n",
       "</style>\n",
       "<table border=\"1\" class=\"dataframe\">\n",
       "  <thead>\n",
       "    <tr style=\"text-align: right;\">\n",
       "      <th></th>\n",
       "      <th>Id</th>\n",
       "      <th>OwnerUserId</th>\n",
       "      <th>CreationDate</th>\n",
       "      <th>ParentId</th>\n",
       "      <th>Score</th>\n",
       "      <th>Body</th>\n",
       "    </tr>\n",
       "  </thead>\n",
       "  <tbody>\n",
       "    <tr>\n",
       "      <th>0</th>\n",
       "      <td>497</td>\n",
       "      <td>50.0</td>\n",
       "      <td>2008-08-02T16:56:53Z</td>\n",
       "      <td>469</td>\n",
       "      <td>4</td>\n",
       "      <td>open up a terminal (Applications-&gt;Utilities-&gt;T...</td>\n",
       "    </tr>\n",
       "    <tr>\n",
       "      <th>1</th>\n",
       "      <td>518</td>\n",
       "      <td>153.0</td>\n",
       "      <td>2008-08-02T17:42:28Z</td>\n",
       "      <td>469</td>\n",
       "      <td>2</td>\n",
       "      <td>I haven't been able to find anything that does...</td>\n",
       "    </tr>\n",
       "    <tr>\n",
       "      <th>2</th>\n",
       "      <td>536</td>\n",
       "      <td>161.0</td>\n",
       "      <td>2008-08-02T18:49:07Z</td>\n",
       "      <td>502</td>\n",
       "      <td>9</td>\n",
       "      <td>You can use ImageMagick's convert utility for ...</td>\n",
       "    </tr>\n",
       "    <tr>\n",
       "      <th>3</th>\n",
       "      <td>538</td>\n",
       "      <td>156.0</td>\n",
       "      <td>2008-08-02T18:56:56Z</td>\n",
       "      <td>535</td>\n",
       "      <td>23</td>\n",
       "      <td>One possibility is Hudson.  It's written in Ja...</td>\n",
       "    </tr>\n",
       "    <tr>\n",
       "      <th>4</th>\n",
       "      <td>541</td>\n",
       "      <td>157.0</td>\n",
       "      <td>2008-08-02T19:06:40Z</td>\n",
       "      <td>535</td>\n",
       "      <td>20</td>\n",
       "      <td>We run Buildbot - Trac at work, I haven't used...</td>\n",
       "    </tr>\n",
       "  </tbody>\n",
       "</table>\n",
       "</div>"
      ],
      "text/plain": [
       "    Id  OwnerUserId          CreationDate  ParentId  Score  \\\n",
       "0  497         50.0  2008-08-02T16:56:53Z       469      4   \n",
       "1  518        153.0  2008-08-02T17:42:28Z       469      2   \n",
       "2  536        161.0  2008-08-02T18:49:07Z       502      9   \n",
       "3  538        156.0  2008-08-02T18:56:56Z       535     23   \n",
       "4  541        157.0  2008-08-02T19:06:40Z       535     20   \n",
       "\n",
       "                                                Body  \n",
       "0  open up a terminal (Applications->Utilities->T...  \n",
       "1  I haven't been able to find anything that does...  \n",
       "2  You can use ImageMagick's convert utility for ...  \n",
       "3  One possibility is Hudson.  It's written in Ja...  \n",
       "4  We run Buildbot - Trac at work, I haven't used...  "
      ]
     },
     "execution_count": 7,
     "metadata": {},
     "output_type": "execute_result"
    }
   ],
   "source": [
    "answers.head()"
   ]
  },
  {
   "cell_type": "code",
   "execution_count": 8,
   "metadata": {},
   "outputs": [
    {
     "data": {
      "text/html": [
       "<div>\n",
       "<style scoped>\n",
       "    .dataframe tbody tr th:only-of-type {\n",
       "        vertical-align: middle;\n",
       "    }\n",
       "\n",
       "    .dataframe tbody tr th {\n",
       "        vertical-align: top;\n",
       "    }\n",
       "\n",
       "    .dataframe thead th {\n",
       "        text-align: right;\n",
       "    }\n",
       "</style>\n",
       "<table border=\"1\" class=\"dataframe\">\n",
       "  <thead>\n",
       "    <tr style=\"text-align: right;\">\n",
       "      <th></th>\n",
       "      <th>Id</th>\n",
       "      <th>Tag</th>\n",
       "    </tr>\n",
       "  </thead>\n",
       "  <tbody>\n",
       "    <tr>\n",
       "      <th>0</th>\n",
       "      <td>469</td>\n",
       "      <td>python</td>\n",
       "    </tr>\n",
       "    <tr>\n",
       "      <th>1</th>\n",
       "      <td>469</td>\n",
       "      <td>osx</td>\n",
       "    </tr>\n",
       "    <tr>\n",
       "      <th>2</th>\n",
       "      <td>469</td>\n",
       "      <td>fonts</td>\n",
       "    </tr>\n",
       "    <tr>\n",
       "      <th>3</th>\n",
       "      <td>469</td>\n",
       "      <td>photoshop</td>\n",
       "    </tr>\n",
       "    <tr>\n",
       "      <th>4</th>\n",
       "      <td>502</td>\n",
       "      <td>python</td>\n",
       "    </tr>\n",
       "  </tbody>\n",
       "</table>\n",
       "</div>"
      ],
      "text/plain": [
       "    Id        Tag\n",
       "0  469     python\n",
       "1  469        osx\n",
       "2  469      fonts\n",
       "3  469  photoshop\n",
       "4  502     python"
      ]
     },
     "execution_count": 8,
     "metadata": {},
     "output_type": "execute_result"
    }
   ],
   "source": [
    "tags.head()"
   ]
  },
  {
   "cell_type": "markdown",
   "metadata": {},
   "source": [
    "## Use spacy for preprocess data to train model"
   ]
  },
  {
   "cell_type": "code",
   "execution_count": 9,
   "metadata": {},
   "outputs": [],
   "source": [
    "from gensim.test.utils import datapath\n",
    "from gensim import utils\n",
    "import logging\n",
    "\n",
    "logging.basicConfig(format='%(asctime)s : %(levelname)s : %(message)s', level=logging.INFO)\n",
    "class MyCorpus(object):\n",
    "    \"\"\"An interator that yields sentences (lists of str).\"\"\"\n",
    "    regex = get_regex_expression()\n",
    "    def __iter__(self):\n",
    "        for title, body in questions[[\"Title\", \"Body\"]].values:\n",
    "            data = ' '.join(preprocess_data(title + \" \" + body, MyCorpus.regex, False, False))\n",
    "            yield utils.simple_preprocess(data)\n",
    "sentences = MyCorpus()"
   ]
  },
  {
   "cell_type": "code",
   "execution_count": 10,
   "metadata": {},
   "outputs": [],
   "source": [
    "from gensim.models import Word2Vec\n",
    "import multiprocessing\n",
    "number_cpus = multiprocessing.cpu_count()"
   ]
  },
  {
   "cell_type": "code",
   "execution_count": 11,
   "metadata": {},
   "outputs": [],
   "source": [
    "parameters = {\"min_count\":0, \"size\":300, \"sg\":1, \"window\":5, \"iter\":110,\n",
    "                   \"sample\": 1e-5, \"hs\": 0, \"negative\": 15, \"ns_exponent\": -0.5,\n",
    "                   \"workers\": number_cpus}"
   ]
  },
  {
   "cell_type": "code",
   "execution_count": 12,
   "metadata": {},
   "outputs": [],
   "source": [
    "sg_model = Word2Vec(**parameters)"
   ]
  },
  {
   "cell_type": "code",
   "execution_count": null,
   "metadata": {
    "scrolled": true
   },
   "outputs": [
    {
     "name": "stderr",
     "output_type": "stream",
     "text": [
      "2020-06-27 16:18:58,055 : INFO : collecting all words and their counts\n",
      "2020-06-27 16:18:58,096 : INFO : PROGRESS: at sentence #0, processed 0 words, keeping 0 word types\n",
      "2020-06-27 16:18:59,622 : INFO : PROGRESS: at sentence #100, processed 9395 words, keeping 1873 word types\n",
      "2020-06-27 16:19:01,230 : INFO : PROGRESS: at sentence #200, processed 19046 words, keeping 2887 word types\n",
      "2020-06-27 16:19:02,526 : INFO : PROGRESS: at sentence #300, processed 27081 words, keeping 3533 word types\n",
      "2020-06-27 16:19:03,819 : INFO : PROGRESS: at sentence #400, processed 35623 words, keeping 4120 word types\n",
      "2020-06-27 16:19:05,373 : INFO : PROGRESS: at sentence #500, processed 46864 words, keeping 4829 word types\n",
      "2020-06-27 16:19:06,778 : INFO : PROGRESS: at sentence #600, processed 57336 words, keeping 5409 word types\n",
      "2020-06-27 16:19:08,420 : INFO : PROGRESS: at sentence #700, processed 69446 words, keeping 6115 word types\n",
      "2020-06-27 16:19:10,012 : INFO : PROGRESS: at sentence #800, processed 79357 words, keeping 6544 word types\n",
      "2020-06-27 16:19:11,616 : INFO : PROGRESS: at sentence #900, processed 90960 words, keeping 7014 word types\n",
      "2020-06-27 16:19:13,386 : INFO : PROGRESS: at sentence #1000, processed 103467 words, keeping 7551 word types\n",
      "2020-06-27 16:19:14,966 : INFO : PROGRESS: at sentence #1100, processed 114639 words, keeping 7939 word types\n",
      "2020-06-27 16:19:16,573 : INFO : PROGRESS: at sentence #1200, processed 125740 words, keeping 8343 word types\n",
      "2020-06-27 16:19:18,232 : INFO : PROGRESS: at sentence #1300, processed 137157 words, keeping 8813 word types\n",
      "2020-06-27 16:19:19,897 : INFO : PROGRESS: at sentence #1400, processed 148842 words, keeping 9143 word types\n",
      "2020-06-27 16:19:21,502 : INFO : PROGRESS: at sentence #1500, processed 160077 words, keeping 9488 word types\n",
      "2020-06-27 16:19:23,154 : INFO : PROGRESS: at sentence #1600, processed 171912 words, keeping 9812 word types\n",
      "2020-06-27 16:19:25,070 : INFO : PROGRESS: at sentence #1700, processed 184796 words, keeping 10184 word types\n",
      "2020-06-27 16:19:26,673 : INFO : PROGRESS: at sentence #1800, processed 195664 words, keeping 10465 word types\n",
      "2020-06-27 16:19:28,663 : INFO : PROGRESS: at sentence #1900, processed 209021 words, keeping 10787 word types\n",
      "2020-06-27 16:19:30,729 : INFO : PROGRESS: at sentence #2000, processed 224228 words, keeping 11178 word types\n",
      "2020-06-27 16:19:32,272 : INFO : PROGRESS: at sentence #2100, processed 234033 words, keeping 11456 word types\n",
      "2020-06-27 16:19:33,874 : INFO : PROGRESS: at sentence #2200, processed 244568 words, keeping 11781 word types\n",
      "2020-06-27 16:19:35,481 : INFO : PROGRESS: at sentence #2300, processed 256011 words, keeping 12067 word types\n",
      "2020-06-27 16:19:37,080 : INFO : PROGRESS: at sentence #2400, processed 267322 words, keeping 12303 word types\n",
      "2020-06-27 16:19:38,724 : INFO : PROGRESS: at sentence #2500, processed 278629 words, keeping 12640 word types\n",
      "2020-06-27 16:19:40,301 : INFO : PROGRESS: at sentence #2600, processed 289663 words, keeping 12893 word types\n",
      "2020-06-27 16:19:42,047 : INFO : PROGRESS: at sentence #2700, processed 301542 words, keeping 13173 word types\n",
      "2020-06-27 16:19:43,839 : INFO : PROGRESS: at sentence #2800, processed 314177 words, keeping 13492 word types\n",
      "2020-06-27 16:19:45,639 : INFO : PROGRESS: at sentence #2900, processed 327583 words, keeping 13814 word types\n",
      "2020-06-27 16:19:47,532 : INFO : PROGRESS: at sentence #3000, processed 341403 words, keeping 14130 word types\n",
      "2020-06-27 16:19:49,361 : INFO : PROGRESS: at sentence #3100, processed 354184 words, keeping 14434 word types\n",
      "2020-06-27 16:19:51,055 : INFO : PROGRESS: at sentence #3200, processed 366195 words, keeping 14664 word types\n",
      "2020-06-27 16:19:52,717 : INFO : PROGRESS: at sentence #3300, processed 377715 words, keeping 14912 word types\n",
      "2020-06-27 16:19:54,600 : INFO : PROGRESS: at sentence #3400, processed 390431 words, keeping 15164 word types\n",
      "2020-06-27 16:19:56,367 : INFO : PROGRESS: at sentence #3500, processed 402209 words, keeping 15405 word types\n",
      "2020-06-27 16:19:58,109 : INFO : PROGRESS: at sentence #3600, processed 415237 words, keeping 15646 word types\n",
      "2020-06-27 16:19:59,823 : INFO : PROGRESS: at sentence #3700, processed 427088 words, keeping 15919 word types\n",
      "2020-06-27 16:20:01,512 : INFO : PROGRESS: at sentence #3800, processed 438361 words, keeping 16158 word types\n",
      "2020-06-27 16:20:03,045 : INFO : PROGRESS: at sentence #3900, processed 449354 words, keeping 16358 word types\n",
      "2020-06-27 16:20:04,625 : INFO : PROGRESS: at sentence #4000, processed 460287 words, keeping 16558 word types\n",
      "2020-06-27 16:20:06,336 : INFO : PROGRESS: at sentence #4100, processed 472373 words, keeping 16760 word types\n",
      "2020-06-27 16:20:07,854 : INFO : PROGRESS: at sentence #4200, processed 482654 words, keeping 16938 word types\n",
      "2020-06-27 16:20:09,532 : INFO : PROGRESS: at sentence #4300, processed 494364 words, keeping 17195 word types\n",
      "2020-06-27 16:20:11,244 : INFO : PROGRESS: at sentence #4400, processed 506546 words, keeping 17396 word types\n",
      "2020-06-27 16:20:13,016 : INFO : PROGRESS: at sentence #4500, processed 518893 words, keeping 17624 word types\n",
      "2020-06-27 16:20:14,683 : INFO : PROGRESS: at sentence #4600, processed 530998 words, keeping 17827 word types\n",
      "2020-06-27 16:20:16,156 : INFO : PROGRESS: at sentence #4700, processed 541679 words, keeping 18059 word types\n",
      "2020-06-27 16:20:17,720 : INFO : PROGRESS: at sentence #4800, processed 552366 words, keeping 18249 word types\n",
      "2020-06-27 16:20:19,337 : INFO : PROGRESS: at sentence #4900, processed 563859 words, keeping 18432 word types\n",
      "2020-06-27 16:20:21,072 : INFO : PROGRESS: at sentence #5000, processed 576142 words, keeping 18650 word types\n",
      "2020-06-27 16:20:22,954 : INFO : PROGRESS: at sentence #5100, processed 589416 words, keeping 18928 word types\n",
      "2020-06-27 16:20:24,509 : INFO : PROGRESS: at sentence #5200, processed 600724 words, keeping 19100 word types\n",
      "2020-06-27 16:20:26,484 : INFO : PROGRESS: at sentence #5300, processed 612521 words, keeping 19308 word types\n",
      "2020-06-27 16:20:28,038 : INFO : PROGRESS: at sentence #5400, processed 624143 words, keeping 19533 word types\n",
      "2020-06-27 16:20:29,742 : INFO : PROGRESS: at sentence #5500, processed 637488 words, keeping 19750 word types\n",
      "2020-06-27 16:20:31,285 : INFO : PROGRESS: at sentence #5600, processed 649160 words, keeping 19952 word types\n",
      "2020-06-27 16:20:32,985 : INFO : PROGRESS: at sentence #5700, processed 661360 words, keeping 20189 word types\n",
      "2020-06-27 16:20:34,730 : INFO : PROGRESS: at sentence #5800, processed 673482 words, keeping 20407 word types\n",
      "2020-06-27 16:20:36,492 : INFO : PROGRESS: at sentence #5900, processed 685044 words, keeping 20592 word types\n",
      "2020-06-27 16:20:38,285 : INFO : PROGRESS: at sentence #6000, processed 696889 words, keeping 20819 word types\n",
      "2020-06-27 16:20:40,142 : INFO : PROGRESS: at sentence #6100, processed 709711 words, keeping 21049 word types\n",
      "2020-06-27 16:20:41,879 : INFO : PROGRESS: at sentence #6200, processed 721493 words, keeping 21246 word types\n",
      "2020-06-27 16:20:43,763 : INFO : PROGRESS: at sentence #6300, processed 734482 words, keeping 21453 word types\n",
      "2020-06-27 16:20:45,498 : INFO : PROGRESS: at sentence #6400, processed 745874 words, keeping 21638 word types\n",
      "2020-06-27 16:20:47,279 : INFO : PROGRESS: at sentence #6500, processed 758220 words, keeping 21807 word types\n",
      "2020-06-27 16:20:48,986 : INFO : PROGRESS: at sentence #6600, processed 771147 words, keeping 22024 word types\n",
      "2020-06-27 16:20:50,728 : INFO : PROGRESS: at sentence #6700, processed 784632 words, keeping 22247 word types\n",
      "2020-06-27 16:20:52,641 : INFO : PROGRESS: at sentence #6800, processed 795591 words, keeping 22462 word types\n",
      "2020-06-27 16:20:54,685 : INFO : PROGRESS: at sentence #6900, processed 809318 words, keeping 22643 word types\n",
      "2020-06-27 16:20:56,248 : INFO : PROGRESS: at sentence #7000, processed 821246 words, keeping 22837 word types\n",
      "2020-06-27 16:20:57,801 : INFO : PROGRESS: at sentence #7100, processed 833192 words, keeping 22999 word types\n",
      "2020-06-27 16:20:59,721 : INFO : PROGRESS: at sentence #7200, processed 848704 words, keeping 23244 word types\n",
      "2020-06-27 16:21:01,327 : INFO : PROGRESS: at sentence #7300, processed 861130 words, keeping 23428 word types\n",
      "2020-06-27 16:21:02,987 : INFO : PROGRESS: at sentence #7400, processed 874008 words, keeping 23598 word types\n",
      "2020-06-27 16:21:04,822 : INFO : PROGRESS: at sentence #7500, processed 888087 words, keeping 23831 word types\n",
      "2020-06-27 16:21:06,533 : INFO : PROGRESS: at sentence #7600, processed 900820 words, keeping 24028 word types\n",
      "2020-06-27 16:21:08,480 : INFO : PROGRESS: at sentence #7700, processed 915345 words, keeping 24285 word types\n",
      "2020-06-27 16:21:10,098 : INFO : PROGRESS: at sentence #7800, processed 927479 words, keeping 24440 word types\n",
      "2020-06-27 16:21:11,603 : INFO : PROGRESS: at sentence #7900, processed 938294 words, keeping 24598 word types\n",
      "2020-06-27 16:21:13,050 : INFO : PROGRESS: at sentence #8000, processed 948900 words, keeping 24733 word types\n",
      "2020-06-27 16:21:14,667 : INFO : PROGRESS: at sentence #8100, processed 960844 words, keeping 24922 word types\n",
      "2020-06-27 16:21:16,160 : INFO : PROGRESS: at sentence #8200, processed 971869 words, keeping 25143 word types\n",
      "2020-06-27 16:21:17,672 : INFO : PROGRESS: at sentence #8300, processed 982749 words, keeping 25336 word types\n",
      "2020-06-27 16:21:19,232 : INFO : PROGRESS: at sentence #8400, processed 993667 words, keeping 25513 word types\n",
      "2020-06-27 16:21:20,821 : INFO : PROGRESS: at sentence #8500, processed 1005205 words, keeping 25708 word types\n",
      "2020-06-27 16:21:22,415 : INFO : PROGRESS: at sentence #8600, processed 1016698 words, keeping 25917 word types\n",
      "2020-06-27 16:21:24,188 : INFO : PROGRESS: at sentence #8700, processed 1029694 words, keeping 26160 word types\n",
      "2020-06-27 16:21:25,996 : INFO : PROGRESS: at sentence #8800, processed 1041777 words, keeping 26342 word types\n",
      "2020-06-27 16:21:27,964 : INFO : PROGRESS: at sentence #8900, processed 1055364 words, keeping 26565 word types\n",
      "2020-06-27 16:21:29,803 : INFO : PROGRESS: at sentence #9000, processed 1069172 words, keeping 26751 word types\n",
      "2020-06-27 16:21:31,423 : INFO : PROGRESS: at sentence #9100, processed 1080378 words, keeping 26901 word types\n",
      "2020-06-27 16:21:33,155 : INFO : PROGRESS: at sentence #9200, processed 1092733 words, keeping 27117 word types\n",
      "2020-06-27 16:21:34,715 : INFO : PROGRESS: at sentence #9300, processed 1104105 words, keeping 27283 word types\n",
      "2020-06-27 16:21:36,317 : INFO : PROGRESS: at sentence #9400, processed 1115495 words, keeping 27425 word types\n",
      "2020-06-27 16:21:38,003 : INFO : PROGRESS: at sentence #9500, processed 1128212 words, keeping 27587 word types\n",
      "2020-06-27 16:21:39,719 : INFO : PROGRESS: at sentence #9600, processed 1140798 words, keeping 27750 word types\n",
      "2020-06-27 16:21:41,524 : INFO : PROGRESS: at sentence #9700, processed 1154301 words, keeping 27928 word types\n",
      "2020-06-27 16:21:43,264 : INFO : PROGRESS: at sentence #9800, processed 1167052 words, keeping 28093 word types\n",
      "2020-06-27 16:21:44,965 : INFO : PROGRESS: at sentence #9900, processed 1179439 words, keeping 28301 word types\n",
      "2020-06-27 16:21:46,543 : INFO : PROGRESS: at sentence #10000, processed 1191479 words, keeping 28453 word types\n",
      "2020-06-27 16:21:48,095 : INFO : PROGRESS: at sentence #10100, processed 1202811 words, keeping 28622 word types\n",
      "2020-06-27 16:21:49,693 : INFO : PROGRESS: at sentence #10200, processed 1214457 words, keeping 28780 word types\n",
      "2020-06-27 16:21:51,296 : INFO : PROGRESS: at sentence #10300, processed 1226024 words, keeping 28917 word types\n",
      "2020-06-27 16:21:53,086 : INFO : PROGRESS: at sentence #10400, processed 1239142 words, keeping 29094 word types\n",
      "2020-06-27 16:21:54,728 : INFO : PROGRESS: at sentence #10500, processed 1251247 words, keeping 29250 word types\n",
      "2020-06-27 16:21:56,593 : INFO : PROGRESS: at sentence #10600, processed 1266257 words, keeping 29423 word types\n",
      "2020-06-27 16:21:58,400 : INFO : PROGRESS: at sentence #10700, processed 1279355 words, keeping 29603 word types\n",
      "2020-06-27 16:22:00,418 : INFO : PROGRESS: at sentence #10800, processed 1292839 words, keeping 29854 word types\n",
      "2020-06-27 16:22:01,883 : INFO : PROGRESS: at sentence #10900, processed 1303332 words, keeping 29975 word types\n",
      "2020-06-27 16:22:03,891 : INFO : PROGRESS: at sentence #11000, processed 1317771 words, keeping 30150 word types\n",
      "2020-06-27 16:22:06,095 : INFO : PROGRESS: at sentence #11100, processed 1331804 words, keeping 30326 word types\n",
      "2020-06-27 16:22:08,102 : INFO : PROGRESS: at sentence #11200, processed 1345022 words, keeping 30535 word types\n",
      "2020-06-27 16:22:10,330 : INFO : PROGRESS: at sentence #11300, processed 1359970 words, keeping 30754 word types\n",
      "2020-06-27 16:22:12,100 : INFO : PROGRESS: at sentence #11400, processed 1372668 words, keeping 30929 word types\n",
      "2020-06-27 16:22:14,205 : INFO : PROGRESS: at sentence #11500, processed 1385454 words, keeping 31101 word types\n",
      "2020-06-27 16:22:15,867 : INFO : PROGRESS: at sentence #11600, processed 1396255 words, keeping 31220 word types\n",
      "2020-06-27 16:22:17,586 : INFO : PROGRESS: at sentence #11700, processed 1407444 words, keeping 31377 word types\n",
      "2020-06-27 16:22:19,803 : INFO : PROGRESS: at sentence #11800, processed 1420369 words, keeping 31524 word types\n",
      "2020-06-27 16:22:21,866 : INFO : PROGRESS: at sentence #11900, processed 1432311 words, keeping 31664 word types\n",
      "2020-06-27 16:22:23,687 : INFO : PROGRESS: at sentence #12000, processed 1443363 words, keeping 31824 word types\n",
      "2020-06-27 16:22:25,508 : INFO : PROGRESS: at sentence #12100, processed 1453963 words, keeping 31946 word types\n",
      "2020-06-27 16:22:27,274 : INFO : PROGRESS: at sentence #12200, processed 1465958 words, keeping 32120 word types\n",
      "2020-06-27 16:22:29,168 : INFO : PROGRESS: at sentence #12300, processed 1479596 words, keeping 32307 word types\n",
      "2020-06-27 16:22:31,060 : INFO : PROGRESS: at sentence #12400, processed 1492282 words, keeping 32492 word types\n",
      "2020-06-27 16:22:32,842 : INFO : PROGRESS: at sentence #12500, processed 1505508 words, keeping 32681 word types\n",
      "2020-06-27 16:22:34,532 : INFO : PROGRESS: at sentence #12600, processed 1517592 words, keeping 32857 word types\n",
      "2020-06-27 16:22:36,332 : INFO : PROGRESS: at sentence #12700, processed 1530841 words, keeping 33083 word types\n",
      "2020-06-27 16:22:38,322 : INFO : PROGRESS: at sentence #12800, processed 1545820 words, keeping 33293 word types\n",
      "2020-06-27 16:22:40,327 : INFO : PROGRESS: at sentence #12900, processed 1560608 words, keeping 33518 word types\n",
      "2020-06-27 16:22:42,497 : INFO : PROGRESS: at sentence #13000, processed 1576385 words, keeping 33756 word types\n",
      "2020-06-27 16:22:44,211 : INFO : PROGRESS: at sentence #13100, processed 1588814 words, keeping 33878 word types\n",
      "2020-06-27 16:22:46,142 : INFO : PROGRESS: at sentence #13200, processed 1603051 words, keeping 34107 word types\n",
      "2020-06-27 16:22:48,036 : INFO : PROGRESS: at sentence #13300, processed 1617079 words, keeping 34331 word types\n",
      "2020-06-27 16:22:50,011 : INFO : PROGRESS: at sentence #13400, processed 1631932 words, keeping 34465 word types\n",
      "2020-06-27 16:22:51,713 : INFO : PROGRESS: at sentence #13500, processed 1644174 words, keeping 34579 word types\n",
      "2020-06-27 16:22:53,427 : INFO : PROGRESS: at sentence #13600, processed 1656590 words, keeping 34749 word types\n",
      "2020-06-27 16:22:55,183 : INFO : PROGRESS: at sentence #13700, processed 1669141 words, keeping 34906 word types\n",
      "2020-06-27 16:22:56,933 : INFO : PROGRESS: at sentence #13800, processed 1681873 words, keeping 35081 word types\n",
      "2020-06-27 16:22:58,730 : INFO : PROGRESS: at sentence #13900, processed 1694813 words, keeping 35268 word types\n",
      "2020-06-27 16:23:00,467 : INFO : PROGRESS: at sentence #14000, processed 1707096 words, keeping 35500 word types\n",
      "2020-06-27 16:23:01,955 : INFO : PROGRESS: at sentence #14100, processed 1717301 words, keeping 35590 word types\n",
      "2020-06-27 16:23:03,675 : INFO : PROGRESS: at sentence #14200, processed 1729543 words, keeping 35753 word types\n",
      "2020-06-27 16:23:05,338 : INFO : PROGRESS: at sentence #14300, processed 1740276 words, keeping 35922 word types\n",
      "2020-06-27 16:23:07,216 : INFO : PROGRESS: at sentence #14400, processed 1753732 words, keeping 36109 word types\n",
      "2020-06-27 16:23:09,014 : INFO : PROGRESS: at sentence #14500, processed 1765377 words, keeping 36244 word types\n",
      "2020-06-27 16:23:11,032 : INFO : PROGRESS: at sentence #14600, processed 1778696 words, keeping 36422 word types\n",
      "2020-06-27 16:23:12,967 : INFO : PROGRESS: at sentence #14700, processed 1790723 words, keeping 36544 word types\n",
      "2020-06-27 16:23:14,724 : INFO : PROGRESS: at sentence #14800, processed 1801354 words, keeping 36654 word types\n",
      "2020-06-27 16:23:16,872 : INFO : PROGRESS: at sentence #14900, processed 1815526 words, keeping 36918 word types\n",
      "2020-06-27 16:23:18,860 : INFO : PROGRESS: at sentence #15000, processed 1828171 words, keeping 37093 word types\n",
      "2020-06-27 16:23:20,519 : INFO : PROGRESS: at sentence #15100, processed 1840430 words, keeping 37216 word types\n",
      "2020-06-27 16:23:22,297 : INFO : PROGRESS: at sentence #15200, processed 1853222 words, keeping 37364 word types\n",
      "2020-06-27 16:23:24,230 : INFO : PROGRESS: at sentence #15300, processed 1868681 words, keeping 37540 word types\n",
      "2020-06-27 16:23:25,911 : INFO : PROGRESS: at sentence #15400, processed 1880565 words, keeping 37683 word types\n",
      "2020-06-27 16:23:27,596 : INFO : PROGRESS: at sentence #15500, processed 1892946 words, keeping 37830 word types\n",
      "2020-06-27 16:23:29,777 : INFO : PROGRESS: at sentence #15600, processed 1908145 words, keeping 38003 word types\n",
      "2020-06-27 16:23:31,647 : INFO : PROGRESS: at sentence #15700, processed 1922264 words, keeping 38157 word types\n",
      "2020-06-27 16:23:33,583 : INFO : PROGRESS: at sentence #15800, processed 1936162 words, keeping 38332 word types\n",
      "2020-06-27 16:23:35,234 : INFO : PROGRESS: at sentence #15900, processed 1948353 words, keeping 38514 word types\n",
      "2020-06-27 16:23:36,929 : INFO : PROGRESS: at sentence #16000, processed 1960646 words, keeping 38652 word types\n",
      "2020-06-27 16:23:38,647 : INFO : PROGRESS: at sentence #16100, processed 1972831 words, keeping 38813 word types\n",
      "2020-06-27 16:23:40,518 : INFO : PROGRESS: at sentence #16200, processed 1986516 words, keeping 38957 word types\n",
      "2020-06-27 16:23:42,172 : INFO : PROGRESS: at sentence #16300, processed 1998005 words, keeping 39134 word types\n",
      "2020-06-27 16:23:43,784 : INFO : PROGRESS: at sentence #16400, processed 2009619 words, keeping 39254 word types\n",
      "2020-06-27 16:23:45,360 : INFO : PROGRESS: at sentence #16500, processed 2020617 words, keeping 39372 word types\n",
      "2020-06-27 16:23:47,125 : INFO : PROGRESS: at sentence #16600, processed 2033560 words, keeping 39513 word types\n",
      "2020-06-27 16:23:48,893 : INFO : PROGRESS: at sentence #16700, processed 2046512 words, keeping 39645 word types\n",
      "2020-06-27 16:23:50,611 : INFO : PROGRESS: at sentence #16800, processed 2058992 words, keeping 39824 word types\n",
      "2020-06-27 16:23:52,275 : INFO : PROGRESS: at sentence #16900, processed 2071160 words, keeping 39951 word types\n",
      "2020-06-27 16:23:53,948 : INFO : PROGRESS: at sentence #17000, processed 2083080 words, keeping 40100 word types\n",
      "2020-06-27 16:23:55,754 : INFO : PROGRESS: at sentence #17100, processed 2096487 words, keeping 40291 word types\n",
      "2020-06-27 16:23:57,691 : INFO : PROGRESS: at sentence #17200, processed 2110843 words, keeping 40444 word types\n",
      "2020-06-27 16:23:59,347 : INFO : PROGRESS: at sentence #17300, processed 2122353 words, keeping 40545 word types\n",
      "2020-06-27 16:24:01,333 : INFO : PROGRESS: at sentence #17400, processed 2137529 words, keeping 40706 word types\n",
      "2020-06-27 16:24:03,103 : INFO : PROGRESS: at sentence #17500, processed 2150170 words, keeping 40868 word types\n",
      "2020-06-27 16:24:05,589 : INFO : PROGRESS: at sentence #17600, processed 2166111 words, keeping 41051 word types\n",
      "2020-06-27 16:24:07,606 : INFO : PROGRESS: at sentence #17700, processed 2179061 words, keeping 41187 word types\n",
      "2020-06-27 16:24:10,012 : INFO : PROGRESS: at sentence #17800, processed 2190892 words, keeping 41342 word types\n",
      "2020-06-27 16:24:11,898 : INFO : PROGRESS: at sentence #17900, processed 2202716 words, keeping 41478 word types\n",
      "2020-06-27 16:24:13,734 : INFO : PROGRESS: at sentence #18000, processed 2214417 words, keeping 41617 word types\n",
      "2020-06-27 16:24:15,895 : INFO : PROGRESS: at sentence #18100, processed 2227751 words, keeping 41747 word types\n",
      "2020-06-27 16:24:18,175 : INFO : PROGRESS: at sentence #18200, processed 2241774 words, keeping 41944 word types\n",
      "2020-06-27 16:24:19,953 : INFO : PROGRESS: at sentence #18300, processed 2254247 words, keeping 42097 word types\n",
      "2020-06-27 16:24:21,756 : INFO : PROGRESS: at sentence #18400, processed 2267190 words, keeping 42263 word types\n",
      "2020-06-27 16:24:23,540 : INFO : PROGRESS: at sentence #18500, processed 2280793 words, keeping 42361 word types\n",
      "2020-06-27 16:24:25,061 : INFO : PROGRESS: at sentence #18600, processed 2291484 words, keeping 42494 word types\n",
      "2020-06-27 16:24:26,647 : INFO : PROGRESS: at sentence #18700, processed 2302479 words, keeping 42592 word types\n",
      "2020-06-27 16:24:28,439 : INFO : PROGRESS: at sentence #18800, processed 2315416 words, keeping 42776 word types\n",
      "2020-06-27 16:24:30,238 : INFO : PROGRESS: at sentence #18900, processed 2326366 words, keeping 42898 word types\n",
      "2020-06-27 16:24:31,934 : INFO : PROGRESS: at sentence #19000, processed 2337311 words, keeping 43020 word types\n",
      "2020-06-27 16:24:33,575 : INFO : PROGRESS: at sentence #19100, processed 2347699 words, keeping 43119 word types\n",
      "2020-06-27 16:24:35,419 : INFO : PROGRESS: at sentence #19200, processed 2360130 words, keeping 43300 word types\n",
      "2020-06-27 16:24:37,130 : INFO : PROGRESS: at sentence #19300, processed 2371666 words, keeping 43415 word types\n",
      "2020-06-27 16:24:39,001 : INFO : PROGRESS: at sentence #19400, processed 2384181 words, keeping 43591 word types\n",
      "2020-06-27 16:24:40,894 : INFO : PROGRESS: at sentence #19500, processed 2396458 words, keeping 43762 word types\n",
      "2020-06-27 16:24:42,565 : INFO : PROGRESS: at sentence #19600, processed 2408304 words, keeping 43907 word types\n",
      "2020-06-27 16:24:44,312 : INFO : PROGRESS: at sentence #19700, processed 2420292 words, keeping 44010 word types\n",
      "2020-06-27 16:24:46,483 : INFO : PROGRESS: at sentence #19800, processed 2434380 words, keeping 44150 word types\n",
      "2020-06-27 16:24:48,487 : INFO : PROGRESS: at sentence #19900, processed 2447389 words, keeping 44295 word types\n",
      "2020-06-27 16:24:50,517 : INFO : PROGRESS: at sentence #20000, processed 2462517 words, keeping 44485 word types\n",
      "2020-06-27 16:24:52,165 : INFO : PROGRESS: at sentence #20100, processed 2474269 words, keeping 44650 word types\n",
      "2020-06-27 16:24:54,054 : INFO : PROGRESS: at sentence #20200, processed 2486315 words, keeping 44778 word types\n",
      "2020-06-27 16:24:56,219 : INFO : PROGRESS: at sentence #20300, processed 2498674 words, keeping 44928 word types\n",
      "2020-06-27 16:24:58,115 : INFO : PROGRESS: at sentence #20400, processed 2511093 words, keeping 45069 word types\n",
      "2020-06-27 16:24:59,857 : INFO : PROGRESS: at sentence #20500, processed 2522781 words, keeping 45240 word types\n",
      "2020-06-27 16:25:01,719 : INFO : PROGRESS: at sentence #20600, processed 2535937 words, keeping 45397 word types\n",
      "2020-06-27 16:25:03,375 : INFO : PROGRESS: at sentence #20700, processed 2547083 words, keeping 45560 word types\n",
      "2020-06-27 16:25:05,264 : INFO : PROGRESS: at sentence #20800, processed 2560096 words, keeping 45674 word types\n",
      "2020-06-27 16:25:06,921 : INFO : PROGRESS: at sentence #20900, processed 2571598 words, keeping 45824 word types\n",
      "2020-06-27 16:25:08,922 : INFO : PROGRESS: at sentence #21000, processed 2585958 words, keeping 45990 word types\n",
      "2020-06-27 16:25:10,646 : INFO : PROGRESS: at sentence #21100, processed 2597224 words, keeping 46091 word types\n",
      "2020-06-27 16:25:12,467 : INFO : PROGRESS: at sentence #21200, processed 2610306 words, keeping 46230 word types\n",
      "2020-06-27 16:25:14,265 : INFO : PROGRESS: at sentence #21300, processed 2622235 words, keeping 46337 word types\n",
      "2020-06-27 16:25:16,188 : INFO : PROGRESS: at sentence #21400, processed 2635182 words, keeping 46487 word types\n",
      "2020-06-27 16:25:17,647 : INFO : PROGRESS: at sentence #21500, processed 2644912 words, keeping 46589 word types\n",
      "2020-06-27 16:25:19,415 : INFO : PROGRESS: at sentence #21600, processed 2657308 words, keeping 46721 word types\n",
      "2020-06-27 16:25:21,088 : INFO : PROGRESS: at sentence #21700, processed 2668787 words, keeping 46810 word types\n",
      "2020-06-27 16:25:23,033 : INFO : PROGRESS: at sentence #21800, processed 2681091 words, keeping 46964 word types\n",
      "2020-06-27 16:25:24,891 : INFO : PROGRESS: at sentence #21900, processed 2694336 words, keeping 47082 word types\n",
      "2020-06-27 16:25:26,765 : INFO : PROGRESS: at sentence #22000, processed 2707742 words, keeping 47466 word types\n",
      "2020-06-27 16:25:28,565 : INFO : PROGRESS: at sentence #22100, processed 2719834 words, keeping 47886 word types\n",
      "2020-06-27 16:25:30,309 : INFO : PROGRESS: at sentence #22200, processed 2731294 words, keeping 48003 word types\n",
      "2020-06-27 16:25:31,874 : INFO : PROGRESS: at sentence #22300, processed 2741691 words, keeping 48108 word types\n",
      "2020-06-27 16:25:33,731 : INFO : PROGRESS: at sentence #22400, processed 2753301 words, keeping 48247 word types\n",
      "2020-06-27 16:25:35,495 : INFO : PROGRESS: at sentence #22500, processed 2765494 words, keeping 48385 word types\n",
      "2020-06-27 16:25:37,239 : INFO : PROGRESS: at sentence #22600, processed 2778155 words, keeping 48500 word types\n",
      "2020-06-27 16:25:39,176 : INFO : PROGRESS: at sentence #22700, processed 2792707 words, keeping 48676 word types\n",
      "2020-06-27 16:25:40,814 : INFO : PROGRESS: at sentence #22800, processed 2804099 words, keeping 48804 word types\n",
      "2020-06-27 16:25:42,518 : INFO : PROGRESS: at sentence #22900, processed 2816228 words, keeping 48924 word types\n",
      "2020-06-27 16:25:44,402 : INFO : PROGRESS: at sentence #23000, processed 2829328 words, keeping 49074 word types\n",
      "2020-06-27 16:25:46,302 : INFO : PROGRESS: at sentence #23100, processed 2841218 words, keeping 49209 word types\n",
      "2020-06-27 16:25:48,227 : INFO : PROGRESS: at sentence #23200, processed 2853631 words, keeping 49350 word types\n",
      "2020-06-27 16:25:50,345 : INFO : PROGRESS: at sentence #23300, processed 2869085 words, keeping 49517 word types\n",
      "2020-06-27 16:25:52,408 : INFO : PROGRESS: at sentence #23400, processed 2882971 words, keeping 49667 word types\n"
     ]
    }
   ],
   "source": [
    "sg_model.build_vocab(sentences, progress_per=100)"
   ]
  },
  {
   "cell_type": "markdown",
   "metadata": {},
   "source": [
    "# Data For Code completion"
   ]
  },
  {
   "cell_type": "markdown",
   "metadata": {},
   "source": [
    "## Download python data"
   ]
  },
  {
   "cell_type": "code",
   "execution_count": 17,
   "metadata": {},
   "outputs": [
    {
     "name": "stdout",
     "output_type": "stream",
     "text": [
      "downloading data\n",
      "--2020-06-27 13:55:36--  http://files.srl.inf.ethz.ch/data/py150.tar.gz\n",
      "Resolving files.srl.inf.ethz.ch (files.srl.inf.ethz.ch)... 129.132.85.35\n",
      "Connecting to files.srl.inf.ethz.ch (files.srl.inf.ethz.ch)|129.132.85.35|:80... connected.\n",
      "HTTP request sent, awaiting response... 301 Moved Permanently\n",
      "Location: https://files.sri.inf.ethz.ch/data/py150.tar.gz [following]\n",
      "--2020-06-27 13:55:36--  https://files.sri.inf.ethz.ch/data/py150.tar.gz\n",
      "Resolving files.sri.inf.ethz.ch (files.sri.inf.ethz.ch)... 129.132.85.35\n",
      "Connecting to files.sri.inf.ethz.ch (files.sri.inf.ethz.ch)|129.132.85.35|:443... connected.\n",
      "HTTP request sent, awaiting response... 200 OK\n",
      "Length: 526642289 (502M) [application/x-gzip]\n",
      "Saving to: ‘py150.tar.gz’\n",
      "\n",
      "py150.tar.gz        100%[===================>] 502,25M   861KB/s    in 20m 54s \n",
      "\n",
      "2020-06-27 14:16:31 (410 KB/s) - ‘py150.tar.gz’ saved [526642289/526642289]\n",
      "\n"
     ]
    }
   ],
   "source": [
    "!./download_data.sh"
   ]
  },
  {
   "cell_type": "markdown",
   "metadata": {},
   "source": [
    "## Retreive Tokens"
   ]
  },
  {
   "cell_type": "code",
   "execution_count": 24,
   "metadata": {},
   "outputs": [
    {
     "name": "stderr",
     "output_type": "stream",
     "text": [
      "100%|█████████▉| 99999/100000 [02:13<00:00, 750.41it/s] \n"
     ]
    }
   ],
   "source": [
    "TokensRetriever().get_and_write_tokens(\n",
    "        dataset=file_train_raw,\n",
    "        non_terminal_dest=file_non_terminals,\n",
    "        terminal_dest=file_terminals,\n",
    "        encoding=ENCODING,\n",
    "        append_eof=True,\n",
    "        lim=LIM\n",
    "    )"
   ]
  },
  {
   "cell_type": "code",
   "execution_count": 44,
   "metadata": {
    "collapsed": true,
    "jupyter": {
     "outputs_hidden": true
    }
   },
   "outputs": [
    {
     "name": "stderr",
     "output_type": "stream",
     "text": [
      "Train:: 100%|█████████▉| 99999/100000 [03:41<00:00, 451.51it/s]\n",
      "Val::  50%|█████     | 50000/100000 [01:59<01:59, 417.10it/s]\n"
     ]
    }
   ],
   "source": [
    "JsonConverter.convert_file(\n",
    "    raw_file=file_train_raw,\n",
    "    dest_file=file_train_converted,\n",
    "    terminals_file=file_terminals,\n",
    "    encoding=ENCODING,\n",
    "    append_eof=True,\n",
    "    lim=LIM,\n",
    "    last_is_zero=False,\n",
    "    name='Train:'\n",
    ")\n",
    "\n",
    "JsonConverter.convert_file(\n",
    "    raw_file=file_eval_raw,\n",
    "    dest_file=file_eval_converted,\n",
    "    terminals_file=file_terminals,\n",
    "    encoding=ENCODING,\n",
    "    append_eof=True,\n",
    "    lim=LIM,\n",
    "    last_is_zero=False,\n",
    "    name='Val:'\n",
    ")"
   ]
  },
  {
   "cell_type": "code",
   "execution_count": null,
   "metadata": {},
   "outputs": [],
   "source": []
  }
 ],
 "metadata": {
  "kernelspec": {
   "display_name": ".notebook_env",
   "language": "python",
   "name": ".notebook_env"
  },
  "language_info": {
   "codemirror_mode": {
    "name": "ipython",
    "version": 3
   },
   "file_extension": ".py",
   "mimetype": "text/x-python",
   "name": "python",
   "nbconvert_exporter": "python",
   "pygments_lexer": "ipython3",
   "version": "3.7.7"
  },
  "toc-autonumbering": true
 },
 "nbformat": 4,
 "nbformat_minor": 4
}
